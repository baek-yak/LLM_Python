{
 "cells": [
  {
   "cell_type": "markdown",
   "metadata": {},
   "source": [
    "### 웹 페이지 정보 추출(Extracting information from a webpage)\n",
    "- 웹페이지를 불러들인다\n",
    "    - requests 모듈\n",
    "- 필요한 정보 추출\n",
    "    - re 모듈\n",
    "    - bs4 모듈"
   ]
  },
  {
   "cell_type": "code",
   "execution_count": null,
   "metadata": {},
   "outputs": [],
   "source": [
    "# 웹페이지 불러들이기\n",
    "import requests\n",
    "url = \"https://www.inje.ac.kr/kor/Template/Bsub_page.asp?Ldir=board/S_Food&Lpage=s_food_view\"\n",
    "response = requests.get(url, verify=False)\n",
    "#response.encoding = 'EUC-KR'\n",
    "page = response.text"
   ]
  },
  {
   "cell_type": "markdown",
   "metadata": {},
   "source": [
    "#### 정규표현식\n",
    "- 메타문자\n",
    "    - .^$*+?{}[]\\|()\n",
    "    - 메타문자를 문자로 사용하고 싶은경우 앞에 \\(역슬래시)를 붙여야한다.\n",
    "- 문자클래스\n",
    "    - [a-d] : [abcd]와 동일\n",
    "    - [a-z] : 소문자\n",
    "    - [a-zA-Z0-9] : 대소문자나 숫자\n",
    "    - [^0-9] : 숫자가 아닌 모든 문자\n",
    "- 반복\n",
    "    - * : 0 번 이상 반복\n",
    "    - + : 1 번 이상 반복\n",
    "    - {3} : 3회 반복\n",
    "    - {3,5} : 3회 또는 4회 또는 5회 반복\n",
    "    - {3,} : 3회 이상 반복"
   ]
  },
  {
   "cell_type": "code",
   "execution_count": null,
   "metadata": {},
   "outputs": [],
   "source": [
    "# 4자리수 연도를 추출\n",
    "import re\n",
    "s = \"Copyright(c) 1996-2022 INJE UNIVERSITY2. All rights reserved.\"\n",
    "matches = re.findall(\"[0-9]{4}\", s)\n",
    "print(matches)"
   ]
  },
  {
   "cell_type": "code",
   "execution_count": null,
   "metadata": {},
   "outputs": [],
   "source": [
    "# 필요한 정보 추출하기\n",
    "import requests\n",
    "import re\n",
    "\n",
    "url = \"https://www.inje.ac.kr/kor/Template/Bsub_page.asp?Ldir=board/S_Food&Lpage=s_food_view\"\n",
    "response = requests.get(url, verify=False)\n",
    "#response.encoding = 'EUC-KR'\n",
    "page = response.text\n",
    "\n",
    "menus = re.findall('<td class=\"tc\">(.+</td>)', page)\n",
    "for i, menu in enumerate(menus):\n",
    "    print(i,menu)\n",
    "    \n",
    "# 메뉴 보기 좋게 출력하기\n",
    "y = \"월화수목금\"\n",
    "strs = \"[다인]\\n\"\n",
    "for i in range(0,5):\n",
    "    menu = menus[i].replace(\"<br>\", \" \")\n",
    "    menu = menu.replace(\"&nbsp\", \" \")\n",
    "    menu = menu.replace(\";</td>\", \" \")\n",
    "    menu = re.sub(\"\\([^)]+\\)\", \"\",menu)\n",
    "    menu = re.sub(\"\\([^)]+\\)\", \"\",menu)\n",
    "    menu = re.sub(\"\\s{2,}\", \"\",menu)\n",
    "    menu = menu.strip()\n",
    "    strs += f\"{y[i]}: {menu}\\n\"\n",
    "print(strs)"
   ]
  },
  {
   "attachments": {
    "image.png": {
     "image/png": "[encoded data removed]"
    }
   },
   "cell_type": "markdown",
   "metadata": {},
   "source": [
    "![image.png](attachment:image.png)"
   ]
  },
  {
   "cell_type": "markdown",
   "metadata": {},
   "source": [
    "### Beautiful Soup\n",
    "- html 문서의 계층 구조를 이요해 각 요소들에 자유롭게 접근할 수 있도록 도와주는 모듈\n",
    "- bs4 모듈에서 import\n",
    "- page 변수에 담긴 정보를 html.parser로 분석해 beutifulsoup 객체를 만들어 soup 변수에 담음\n",
    "- soup 안에서 td 태그 중 class 값이 tc인 것들을 찾아 리스트로 만들어 menu_tags 변수에 담음"
   ]
  },
  {
   "cell_type": "code",
   "execution_count": null,
   "metadata": {},
   "outputs": [],
   "source": [
    "# BeautifulSoup 을 이용해 웹페이지 정보 추출\n",
    "from bs4 import BeautifulSoup\n",
    "soup = BeautifulSoup(page, \"html.parser\")\n",
    "menu_tags = soup.find_all(\"td\", attrs={\"class\":\"tc\"})\n",
    "\n",
    "for i, menu_tag in enumerate(menu_tags):\n",
    "  menu = menu_tag.getText(\" \")\n",
    "  print(i, menu)\n",
    "  \n",
    "y = \"월화수목금\"\n",
    "strs = \"\"\n",
    "for i in range(0,5):\n",
    "    menu =menu_tags[i+2].getText(\" \")\n",
    "    menu = re.sub(\"\\([^)]+\\)\", \"\",menu)\n",
    "    menu = menu.strip()\n",
    "    strs += f\"{y[i]}: {menu}\\n\"\n",
    "print(strs)"
   ]
  },
  {
   "attachments": {
    "image.png": {
     "image/png": "[encoded data removed]"
    }
   },
   "cell_type": "markdown",
   "metadata": {},
   "source": [
    "![image.png](attachment:image.png)"
   ]
  }
 ],
 "metadata": {
  "language_info": {
   "name": "python"
  }
 },
 "nbformat": 4,
 "nbformat_minor": 2
}
