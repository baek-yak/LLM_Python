{
 "cells": [
  {
   "cell_type": "markdown",
   "metadata": {},
   "source": [
    "### Web\n",
    "- World wide web\n",
    "- 인터넷이라는 컴퓨터들 사이의 연결망을 기반으로 동작하는 시스템\n",
    "- Hypertext\n",
    "    - 문서 내 특정 단어가 다른 문서와 연결되어 있어 문서를 넘나들며 원하는 정보를 얻을 수 있도록 되어있는 형태의 문서\n",
    "    - HTTP : 웹에서 하이퍼텍스트를 전송하는 통신규약\n",
    "    - HTML : 하이퍼텍스트의 구조를 나타내는 언어\n",
    "    - Markup Language : 태그 등을 활용해 구조를 가진 문서를 표현하는 언어\n",
    "- Web 동작 원리\n",
    "    - 클라이언트가 서버로 HTTP 요청을 보내 정보를 받아오고, 이를 클라이언트의 웹 브라우저를 통해 시각화해 보여준다"
   ]
  },
  {
   "cell_type": "markdown",
   "metadata": {},
   "source": [
    "### HTML\n",
    "- Hypertext markup language\n",
    "- 하이퍼텍스트의 구조를 나타내는 언어\n",
    "- HTML 요소를 정의하는 태그로 이루어져있다.\n",
    "- 태그 여러가지 존재\n",
    "    - b : 볼드\n",
    "    - u : 미줄\n",
    "    - i : 이탤릭\n",
    "    - p : 문단으로 취급\n",
    "    - br : 줄바꿈\n",
    "    - img : 이미지\n",
    "    - h1...6 : heading 제목을 나타냄\n",
    "    - ol : 일련번호를 매기는 목록\n",
    "    - ul : 일련번호가 없는 목록\n",
    "    - li : 리스트 목차를 나타냄\n",
    "    - table : 표 전체 영역\n",
    "    - tr : table row\n",
    "    - th : table header\n",
    "    - td : table data\n",
    "    - a : 링크를 만드는 태그\n",
    "\n",
    "- html 문서의 기본 구조\n",
    "    - <!DOCTYPE html> : html문서라고 알려주는 첫 줄\n",
    "    - <html> : html 문서의 가장 바깥을 둘러싸는 태그\n",
    "    - <head>> : 문서 본문을 출력하기 전 문서의 특성을 알려주는 내용을 담은 태그\n",
    "        - <title> : 문서의 제목\n",
    "        - <meta> : 문서의 속성을 정의\n",
    "        - <link> : 문서를 출력하는데 필요한 외부 자원을 지정\n",
    "    - <body> 본문 출력 부분을 담는 태그\n",
    "\n",
    "- 웹 서비스 동작 방식\n",
    "    - 클라이언트 요청\n",
    "    - 서버에서 클라이언트 요청에 해당하는 코드 실행\n",
    "    - 코드가 실행되어 html 문서 생성\n",
    "    - 생성된 html 문서를 클라이언트에게 응답\n",
    "    - 클라이언트 브라우저에서 사람이 알아볼 수 있는 형태로 표시"
   ]
  }
 ],
 "metadata": {
  "language_info": {
   "name": "python"
  }
 },
 "nbformat": 4,
 "nbformat_minor": 2
}
