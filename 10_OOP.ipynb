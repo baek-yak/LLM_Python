{
 "cells": [
  {
   "cell_type": "markdown",
   "metadata": {},
   "source": [
    "## 객체지향 프로그래밍(Object-oriented programming)\n",
    "- 객체 : 서로 연관성이 깊은 변수와 함수의 묶음\n",
    "- 객체의 상태가 변화할 수 있다.\n",
    "- 속성 : 객체에 딸린 변수\n",
    "- 메서드 : 객체에 딸린 함수"
   ]
  },
  {
   "cell_type": "code",
   "execution_count": null,
   "metadata": {},
   "outputs": [],
   "source": [
    "# 클래스를 이용해 객체 생성\n",
    "class Animal:\n",
    "    def __init__(self, name, species):\n",
    "        self.name = name\n",
    "        self.species = species\n",
    "        self.title = f'{self.name} the great {self.species}'\n",
    "        \n",
    "    def rename(self, newname):\n",
    "        self.name = newname\n",
    "        self.title = f'{self.name} the great {self.species}'\n",
    "        \n",
    "    def sayhi(self):\n",
    "        print(f\"Hello, I'm {self.title}\")\n",
    "        \n",
    "tom = Animal(\"Tom\", \"Cat\")\n",
    "print(tom.title)\n",
    "tom.rename(\"Tomy\")\n",
    "tom.sayhi()\n",
    "print(tom.title)"
   ]
  },
  {
   "attachments": {
    "image.png": {
     "image/png": "[encoded data removed]"
    }
   },
   "cell_type": "markdown",
   "metadata": {},
   "source": [
    "![image.png](attachment:image.png)"
   ]
  },
  {
   "cell_type": "markdown",
   "metadata": {},
   "source": [
    "### 클래스 상속\n",
    "- 다른 클래스의 구조와 메서드를 상속받아 밑그림으로 이용 가능"
   ]
  },
  {
   "cell_type": "code",
   "execution_count": null,
   "metadata": {},
   "outputs": [],
   "source": [
    "class Animal:\n",
    "    def __init__(self, name, species):\n",
    "        self.health = 100\n",
    "        self.name = name\n",
    "        self.species = species\n",
    "        self.title = f'{self.name} the great {self.species}'\n",
    "        self.attack = 1\n",
    "        \n",
    "    def rename(self, newname):\n",
    "        self.name = newname\n",
    "        self.title = f'{self.name} the great {self.species}'\n",
    "        \n",
    "    def sayhi(self):\n",
    "        print(f\"Hello, I'm {self.title}\")\n",
    "        \n",
    "    def status(self):\n",
    "        print(f\"{self.name}'s health is at {self.health}%\")\n",
    "    \n",
    "    def speak(self):\n",
    "        print(f\"{self.name} says {self.voice}\")\n",
    "    \n",
    "    def rest(self):\n",
    "        self.health += 5\n",
    "        if self.health > 100:\n",
    "            self.health = 100\n",
    "            \n",
    "class Cat(Animal):\n",
    "    def __init__(self, name):\n",
    "        super().__init__(name, \"Cat\")\n",
    "        self.attack = 10\n",
    "        self.voice = \"Meow\"\n",
    "    def slash(self, enemy):\n",
    "        enemy.health -= self.attack\n",
    "\n",
    "class Mouse(Animal):\n",
    "    def __init__(self, name):\n",
    "        super().__init__(name, \"Mouse\")\n",
    "        self.attack = 5\n",
    "        self.voice = \"Squeak\"\n",
    "    def bite(self, enemy):\n",
    "        enemy.health -= self.attack\n",
    "        \n",
    "tom = Cat(\"Tom\")\n",
    "jerry = Mouse(\"Jerry\")\n",
    "\n",
    "tom.status()\n",
    "jerry.status()\n",
    "\n",
    "tom.slash(jerry)\n",
    "jerry.status()\n",
    "\n",
    "jerry.rest()\n",
    "jerry.status()"
   ]
  },
  {
   "attachments": {
    "image.png": {
     "image/png": "[encoded data removed]"
    }
   },
   "cell_type": "markdown",
   "metadata": {},
   "source": [
    "![image.png](attachment:image.png)"
   ]
  },
  {
   "cell_type": "markdown",
   "metadata": {},
   "source": [
    "## Operator overloading\n",
    "- 객체의 연산을 정의해줄 수 있다\n",
    "- __str__()\n",
    "    - 출력 형태를 정의\n",
    "- __add__()\n",
    "    - 더하기\n",
    "- __sub__()\n",
    "    - 빼기\n",
    "- 등 여러가지 존재\n",
    "\n",
    "## 4 pillars of OOP\n",
    "- Abstraction\n",
    "    - 객체가 하는 행동을 메서드라는 추상적인 개념으로 대체\n",
    "    - 완성된 코드를 사용하기 편함\n",
    "- Encapsulation\n",
    "    - 객체가 가진 변수들은 메서드를 통해서만 조작\n",
    "    - 정해진 방식으로만 데이터를 다루므로 오류의 가능성을 줄인다\n",
    "- Inheritance\n",
    "    - 슈퍼클래스에 공통적인 내용을 담고, 서브클래스에서는 서로 다른 부분들만 정의\n",
    "    - 코드의 재활용 및 수정 용이\n",
    "- Polymorphism\n",
    "    - 상속, 덮어쓰기를 이용해 메서드 이름은 같지만 클래스에 따라 다른 동작 수행 가능\n",
    "\n",
    "## 객체지향 프로그래밍의 장점\n",
    "- 코드 활용 및 재활용 용이\n",
    "    - 라이브러리에서 정의된 클래스를 직접 활용하거나 상속받아 코드 작성 가능\n",
    "- 자연적 모델링\n",
    "    - 객체와 메서드를 잘 정의하면 사람이 생각하는 방식대로 코딩할 수 있음\n",
    "- 협업 및 유지보수 용이\n",
    "    - 캡슐화가 되어있으면 각 기능이 서로에게 미치는 영향이 최소화 되어 있어, 기존 기능을 수정하거나 새로운 기능을 추가하기 쉽다.\n",
    "    - 영역을 나누어 분업하기 유리"
   ]
  }
 ],
 "metadata": {
  "language_info": {
   "name": "python"
  }
 },
 "nbformat": 4,
 "nbformat_minor": 2
}
