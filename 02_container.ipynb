{
 "cells": [
  {
   "cell_type": "markdown",
   "metadata": {},
   "source": [
    "### 리스트(list)\n",
    "\n",
    "- 인덱스\n",
    "    - 리스트 안에 여러 요소가 존재하고, 각 요소를 가리키는 번호가 인덱스이다\n",
    "    - 시작은 0부터\n",
    "- 순서가 있고 중복이 가능하다\n",
    "- 문자열도 일종의 리스트\n",
    "- 문자열 포매팅 f-string\n",
    "\n",
    "### 세트(set, 집합)\n",
    "- 집합 연산이 가능한, 중복 불가능\n",
    "\n",
    "### 튜플(tuple)\n",
    "- 리스트와 유사하게 순서가 있고 중복 가능한 읽기 전용 리스트\n",
    "\n",
    "### 딕셔너리(dictonary)\n",
    "- index에 이름을 붙일 수 있는 리스트, key는 중복 불가능, value는 중복 가능"
   ]
  },
  {
   "cell_type": "code",
   "execution_count": null,
   "metadata": {},
   "outputs": [],
   "source": [
    "'''\n",
    "연습문제\n",
    "1. a의 첫번째와 세번째 요소의 합을 출력하시오\n",
    "2. a의 첫번째와 마지막 세 개 요소를 b라는 리스트로 저장하시오.\n",
    "'''\n",
    "a = [1, 3, 5, 7, 9, 11, 13]\n",
    "\n",
    "f_ans = a[0] + a[2]\n",
    "print(f_ans)\n",
    "\n",
    "b = a[0:1] + a[-3:]\n",
    "print(b)"
   ]
  },
  {
   "cell_type": "code",
   "execution_count": null,
   "metadata": {},
   "outputs": [],
   "source": [
    "# f 포매팅\n",
    "a = 'left'\n",
    "b = 'mid'  \n",
    "c = 'rigth'\n",
    "# 왼쪽 정렬\n",
    "print(f'=={a:<10s}==')\n",
    "# 가운대 정렬\n",
    "print(f'=={b:^10s}==')\n",
    "# 오른쪽 정렬\n",
    "print(f'=={a:>10s}==')\n",
    "\n",
    "d = 2**0.5\n",
    "# 소수점 아래 두자리\n",
    "print(f'=={d:.2f}==')\n",
    "\n",
    "'''\n",
    "연습문제\n",
    "a = 'Inja University'\n",
    "문자열의 마지막 4글자 출력\n",
    "i가 몇번 출현?\n",
    "인자를 인제로 수정\n",
    "'''\n",
    "a = 'Inja University'\n",
    "\n",
    "print(a[-4:])\n",
    "print(a.count(\"i\"))\n",
    "\n",
    "a = a.replace(a[3], 'e', -1)\n",
    "print(a)"
   ]
  },
  {
   "cell_type": "code",
   "execution_count": null,
   "metadata": {},
   "outputs": [],
   "source": [
    "'''\n",
    "연습\n",
    "a, b를 소문자로 변환해서 a에만 존재하는 알파벳의 목록을 중복 없이 알파벳 순서(a to z)대로 정렬해서 출력\n",
    "'''\n",
    "a = 'University'\n",
    "b = 'Highschool'\n",
    "\n",
    "# 소문자 변환\n",
    "a = a.lower()\n",
    "b = b.lower()\n",
    "\n",
    "# a에만 존재하는 알파벳\n",
    "find_a = set(a) - set(b)\n",
    "\n",
    "# 정렬 \n",
    "sort_a = sorted(find_a)\n",
    "\n",
    "# 출력\n",
    "print(sort_a)"
   ]
  }
 ],
 "metadata": {
  "language_info": {
   "name": "python"
  }
 },
 "nbformat": 4,
 "nbformat_minor": 2
}
