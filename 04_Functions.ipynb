{
 "cells": [
  {
   "cell_type": "markdown",
   "metadata": {},
   "source": [
    "### 함수 Functions\n",
    "- 입력값을 받아 작업을 하고 결과값을 반환하는 역할\n",
    "- 비슷한 작업을 반복적으로 수행하는 데에 사용 가능\n",
    "- 매개변수를 받을 수 있음\n",
    "- 기본값(default)를 지정할 수 있다.\n",
    "- 함수 안에서 다른 함수를 이용하는 것이 가능하다\n",
    "- 재귀적 호출(자기 자신을 호출 할 수 있다)\n",
    "- 지역 변수와 전역 변수"
   ]
  },
  {
   "cell_type": "code",
   "execution_count": null,
   "metadata": {},
   "outputs": [],
   "source": [
    "# 이름을 부르며 인사하는 함수를 만드시오.\n",
    "def welcome(x):\n",
    "    print(f'환영해, {x}')\n",
    "    \n",
    "welcome(\"철수\")\n",
    "\n",
    "# 두 영단어의 겹치는 알파벳을 반환하는 함수를 만드시오\n",
    "def in_both(s1, s2):\n",
    "    x = set(s1) & set(s2)\n",
    "    return x\n",
    "\n",
    "print(in_both(\"university\", \"highschool\"))\n",
    "\n",
    "# 평균 & 표준편차\n",
    "def average(x):\n",
    "    total = 0\n",
    "    for i in x:\n",
    "        total += x\n",
    "    return total / len(x)\n",
    "\n",
    "def stv(x):\n",
    "    loss = 0\n",
    "    for i in x:\n",
    "        loss += (i - average(x))**2\n",
    "    return (loss / len(x))**0.5\n",
    "\n",
    "x = [80, 90, 95, 70]\n",
    "print(f'평균 = {average(x)}, 표준편차 = {stv(x)}')  \n",
    "\n",
    "# 재귀\n",
    "def countdown(a):\n",
    "    if a == 0:\n",
    "        print(\"Off\")\n",
    "    else:\n",
    "        print(a)\n",
    "        countdown(a-1)\n",
    "    print(\".\")\n",
    "    \n",
    "countdown(2)"
   ]
  },
  {
   "cell_type": "code",
   "execution_count": null,
   "metadata": {},
   "outputs": [],
   "source": [
    "'''\n",
    "과제4\n",
    "정수를 매개변수로 받아 해당 구구단을 출력하는 함수를 만드시오\n",
    "- gugudan() 함수 내에서 print 동작을 수행\n",
    "- 5를 곱한 값은 출력하지 않음\n",
    "- 2에서 9까지의 숫자가 아닌 너무 크거나 작은 숫자를 매개변수로 받으면 \"2단에서 9단까지만 가능합니다\"라고 출력\n",
    "'''\n",
    "# 구구단 함수\n",
    "def gugudan(x):\n",
    "    # 2에서 9사이의 숫자가 아닌 경우 걸러지도록\n",
    "    if x < 2 or x > 9:\n",
    "        print(\"2단에서 9단까지만 가능합니다\")\n",
    "        return\n",
    "\n",
    "    for i in range(1, 10):\n",
    "        # 5를 곱한 값이 출력되지 않게 하기 위해\n",
    "        if i == 5:\n",
    "            continue\n",
    "        print(f'{x} x {i} = {x*i}')"
   ]
  }
 ],
 "metadata": {
  "language_info": {
   "name": "python"
  }
 },
 "nbformat": 4,
 "nbformat_minor": 2
}
