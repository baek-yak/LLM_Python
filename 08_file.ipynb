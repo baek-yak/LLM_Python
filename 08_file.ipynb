{
 "cells": [
  {
   "attachments": {
    "image.png": {
     "image/png": "[encoded data removed]"
    }
   },
   "cell_type": "markdown",
   "metadata": {},
   "source": [
    "## 파일 열기\n",
    "- 옵션\n",
    "    - r : read 전용\n",
    "    - w : write 전용(기존 파일을 w로 열면 내용이 지워지니 주의)\n",
    "    - a : 덧붙여쓰기 용도로 열기(append)\n",
    "```python\n",
    "with open(\"a.txt\", \"r\", encoding=\"UTF-8\") as f:\n",
    "    contents = f.read()\n",
    "lines = contents.splitlines()\n",
    "for i, line in enumerate(lines):\n",
    "    print(f\"{i}: {line}\")\n",
    "```\n",
    "![image.png](attachment:image.png)\n"
   ]
  },
  {
   "cell_type": "markdown",
   "metadata": {},
   "source": [
    "## 파일 쓰기\n",
    "- 구구단 2단을 파일로 저장하기\n",
    "- 한글이 들어갈 경우 open()에 encoding=\"UTF-8\"추가\n",
    "```python\n",
    "text = \"[2단]\\n\"\n",
    "for i in range(1, 10):\n",
    "    text += f\"2 x {i} = {2*i}\\n\"\n",
    "with open(\"gugudan.txt\", \"w\", encoding=\"utf-8\") as f:\n",
    "    f.write(text)\n",
    "```\n",
    "- 이어 쓰기\n",
    "```python\n",
    "text = \"[3단]\\n\"\n",
    "for i in range(1, 10):\n",
    "    text += f\"3 x {i} = {3*i}\\n\"\n",
    "with open(\"gugudan.txt\", \"a\", encoding=\"utf-8\") as f:\n",
    "    f.write(text)\n",
    "```"
   ]
  },
  {
   "cell_type": "code",
   "execution_count": null,
   "metadata": {},
   "outputs": [],
   "source": [
    "# 활용 예시 - 추출 내용 txt로 저장\n",
    "import requests, re\n",
    "url = \"https://www.inje.ac.kr/kor/Template/Bsub_page.asp?Ldir=board/S_Food&Lpage=s_food_view\"\n",
    "response = requests.get(url, verify=False)\n",
    "page = response.text\n",
    "menus = re.findall('<td class=\"tc\">(.+)</td>', page)\n",
    "yoil = \"월화수목금\"\n",
    "string = '\"요일\", \"메뉴\"\\n'\n",
    "for i in range(5):\n",
    "    menu = menus[i].replace(\"<br>\", \" \").replace(\"&nbsp;\", \" \").replace(\"&gt\", \"\").replace(\"&lt\", \"\")\n",
    "    menu = re.sub(\"\\([^)]+\\)\", \"\",menu)\n",
    "    menu = re.sub(\"[<>\\-+&/,]\", \" \", menu)\n",
    "    menu = re.sub(\"\\s{1,}\", \" \", menu)\n",
    "    menu = menu.strip()\n",
    "    string += f\"{yoil[i]}: {menu}\\n\"\n",
    "\n",
    "with open(\"menu.text\", \"w\", encoding=\"utf-8\") as f:\n",
    "    f.write(string)"
   ]
  },
  {
   "cell_type": "code",
   "execution_count": null,
   "metadata": {},
   "outputs": [],
   "source": [
    "# 활용예시 - 추출 내용 html로 저장\n",
    "import requests, re\n",
    "# 웹페이지 받아오기\n",
    "url = \"https://www.fcswap.com/game/pokemon-go/\"\n",
    "r = requests.get(url)\n",
    "page = r.text\n",
    "\n",
    "# 친구코드 추출\n",
    "codes = re.findall(r\"<td>(\\d{12})</td>\", page)\n",
    "\n",
    "# html 내용 생성\n",
    "html = '<!DOCTYPE HTML>\\n<html>\\n<head>\\n<meta charset=\"UTF-8\">\\n<title>포켓몬고 친구코드</title>\\n</head>\\n<body>'\n",
    "for code in codes:\n",
    "    html += f'<p>{code}<br>'\n",
    "    html += f'<img src=\"https://api.qrserver.com/v1/create-qr-code/?size=150x150&data={code}\">'\n",
    "    html += '</p>\\n'\n",
    "\n",
    "html +='</body>\\n</html>'\n",
    "\n",
    "with open(\"pokemonfriends.html\", \"w\", encoding=\"utf-8\") as f:\n",
    "    f.write(html)"
   ]
  },
  {
   "cell_type": "markdown",
   "metadata": {},
   "source": [
    "- 저장된 파일은 08_File 폴더로 직접 이동시킴"
   ]
  }
 ],
 "metadata": {
  "language_info": {
   "name": "python"
  }
 },
 "nbformat": 4,
 "nbformat_minor": 2
}
