{
 "cells": [
  {
   "cell_type": "markdown",
   "metadata": {},
   "source": [
    "### 모듈\n",
    "- 파이썬 코드 파일로, 함수, 클래스 및 변수를 포함할 수 있다.\n",
    "- 코드의 재사용성을 높이고, 코드의 구조화를 도와준다.\n",
    "- 파일 단위로 관리되며, import 키워드를 사용해 가져올 수 있다.\n",
    "\n",
    "### 라이브러리\n",
    "- 여러 모듈을 묶어놓은 집합\n",
    "- 특정 기능을 구현하기 위해 필요한 모듈들을 모아 하나의 패키지로 제공\n"
   ]
  }
 ],
 "metadata": {
  "language_info": {
   "name": "python"
  }
 },
 "nbformat": 4,
 "nbformat_minor": 2
}
