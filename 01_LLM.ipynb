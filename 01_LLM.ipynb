{
 "cells": [
  {
   "cell_type": "markdown",
   "metadata": {},
   "source": [
    "### Prompting 요령\n",
    "- 가능한 영어로 작업\n",
    "    - 더 많은 영어 자료로 학습해서 성능이 더 좋음\n",
    "    - 같은 양의 정보를 한국어로 표현하면 token 수가 많아서 효율이 낮음\n",
    "- 최종 결과를 바로 생성하지 않고 중간 과정 거치기\n",
    "    - ex) OO에 대한 내용을 추려내서, 요약한 뒤, 보고서 형태로 정리해줘\n",
    "- 챗봇의 출력은 랜덤성이 있음\n",
    "    - 똑같은 명령을 내려도 매번 응답이 달라짐\n",
    "    - 다른 종류의 챗봇을 사용하면 응답이 달라짐\n",
    "    - 키워드 하나만 달라져도 응답이 달라짐\n",
    "- 성능이 좋은 LLM챗봇 사용하기\n",
    "    - 무료 chatGPT-3.5는 성능이 떨어짐 유료 4.0 사용 추천\n",
    "    - Microsoft Copilot\n",
    "    - Anthropic Claude\n",
    "    - Google Gemini\n",
    "\n",
    "### LLM 챗봇에게 코드를 요청한 뒤 실행\n",
    "1. Google Colaboratory\n",
    "    - 클라우드에서 웹브라우저에 코드만 입력해 실행\n",
    "    - 코드를 조각으로 나누어 실행하는 형태\n",
    "    - 입출력에 다른 파일이 필요하면 번거로움\n",
    "    - 구글에서 제공하는 무료 온라인 개발환경\n",
    "    - 클라우드 환경 - 어디서든 접속 가능, 이어서 작업 가능, 업로드 파일은 시간이 지나면 사라짐\n",
    "\n",
    "2. Visual Studio Code\n",
    "    - 내 컴퓨터에 설치해서 실행\n",
    "    - 코드를 통째로 한 번에 실행하는 형태\n",
    "    - 로컬 파일을 이요하거나 저장하기 유리함"
   ]
  },
  {
   "cell_type": "code",
   "execution_count": null,
   "metadata": {},
   "outputs": [],
   "source": [
    "'''\n",
    "키(cm)와 몸무게(kg)을 입력받아 BMI를 계산한느 코드를 만드시오\n",
    "BMI = weight(kg)/heigth(m)^2\n",
    "'''\n",
    "\n",
    "# bmi 계산 함수\n",
    "def bmi(h, w):\n",
    "    # 키가 cm로 입력 받는데 기준이 m이므로 변경 후 계산\n",
    "    h = h/ 100\n",
    "    ans = w / (h**2)\n",
    "    return ans\n",
    "\n",
    "# 키 입력\n",
    "h = float(input())\n",
    "# 몸무게 입력\n",
    "w = float(input())\n",
    "\n",
    "# 출력\n",
    "print(bmi(h,w))"
   ]
  },
  {
   "cell_type": "code",
   "execution_count": null,
   "metadata": {},
   "outputs": [],
   "source": [
    "'''\n",
    "키(cm)와 몸무게(kg)을 입력받아 BSA를 계산한느 코드를 만드시오\n",
    "BSA = sqrt( (weight(kg) * height(cm) ) / 3600 )\n",
    "'''\n",
    "\n",
    "# BSA 계산 함수\n",
    "def BSA(h, w):\n",
    "    ans = ( (w*h) / 3600 ) ** 0.5\n",
    "    return ans\n",
    "\n",
    "# 키 입력\n",
    "h = float(input())\n",
    "# 몸무게 입력\n",
    "w = float(input())\n",
    "\n",
    "# 출력\n",
    "print(BSA(h,w))"
   ]
  }
 ],
 "metadata": {
  "language_info": {
   "name": "python"
  }
 },
 "nbformat": 4,
 "nbformat_minor": 2
}
